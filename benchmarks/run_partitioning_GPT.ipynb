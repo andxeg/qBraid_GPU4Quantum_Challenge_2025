{
 "cells": [
  {
   "cell_type": "code",
   "execution_count": 7,
   "id": "d3132c5d",
   "metadata": {},
   "outputs": [],
   "source": [
    "import sys\n",
    "sys.path.append(\"../partitioning\")"
   ]
  },
  {
   "cell_type": "code",
   "execution_count": null,
   "id": "c70e6c04",
   "metadata": {},
   "outputs": [],
   "source": [
    "from partitioning_with_gpt import main\n",
    "\n",
    "results = main(\n",
    "    graph_path=\"benchmarking graphs\\subgraph_150.pickle\",\n",
    "    n_partitions=21,\n",
    "    max_partition_size=14,\n",
    "    K_total=30,\n",
    "    solver=\"gpt\",\n",
    "    save_results=True,\n",
    "    output_dir=\"Pipeline Experiments\\GPT_partition2_5\",\n",
    "    q=0.5,\n",
    "    gpt_model_id=\"50m_old\",\n",
    ")"
   ]
  },
  {
   "cell_type": "code",
   "execution_count": null,
   "id": "f04a7254",
   "metadata": {},
   "outputs": [],
   "source": [
    "results"
   ]
  }
 ],
 "metadata": {
  "kernelspec": {
   "display_name": "JPMorganChallenge2",
   "language": "python",
   "name": "python3"
  },
  "language_info": {
   "codemirror_mode": {
    "name": "ipython",
    "version": 3
   },
   "file_extension": ".py",
   "mimetype": "text/x-python",
   "name": "python",
   "nbconvert_exporter": "python",
   "pygments_lexer": "ipython3",
   "version": "3.11.13"
  }
 },
 "nbformat": 4,
 "nbformat_minor": 5
}
